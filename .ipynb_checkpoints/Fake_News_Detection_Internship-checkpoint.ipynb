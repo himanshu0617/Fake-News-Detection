{
 "cells": [
  {
   "cell_type": "code",
   "execution_count": null,
   "id": "c2b17b02",
   "metadata": {},
   "outputs": [],
   "source": [
    "import pandas as pd\n",
    "import string\n",
    "\n",
    "# Load dataset\n",
    "try:\n",
    "    data = pd.read_csv('news.csv')\n",
    "except FileNotFoundError:\n",
    "    print(\"Dataset file 'news.csv' not found. Please add your dataset.\")\n",
    "    raise\n",
    "\n",
    "# Remove missing values\n",
    "data = data.dropna()\n",
    "\n",
    "def clean_text(text):\n",
    "    text = text.lower()\n",
    "    text = text.translate(str.maketrans('', '', string.punctuation))\n",
    "    return text\n",
    "\n",
    "data['text'] = data['text'].apply(clean_text)\n",
    "data.head()"
   ]
  },
  {
   "cell_type": "code",
   "execution_count": null,
   "id": "e497cf16",
   "metadata": {},
   "outputs": [],
   "source": [
    "from sklearn.model_selection import train_test_split\n",
    "from sklearn.feature_extraction.text import TfidfVectorizer\n",
    "from sklearn.utils.class_weight import compute_class_weight\n",
    "from sklearn.ensemble import RandomForestClassifier\n",
    "import numpy as np\n",
    "\n",
    "# Feature extraction\n",
    "vectorizer = TfidfVectorizer(stop_words='english', max_df=0.7)\n",
    "X = vectorizer.fit_transform(data['text'])\n",
    "y = data['label']\n",
    "\n",
    "# Compute class weights\n",
    "class_weights = compute_class_weight(class_weight='balanced', classes=np.unique(y), y=y)\n",
    "class_weight_dict = dict(zip(np.unique(y), class_weights))\n",
    "\n",
    "# Model training on all data for demonstration\n",
    "model = RandomForestClassifier(n_estimators=1000, random_state=42, class_weight=class_weight_dict, max_depth=None)\n",
    "model.fit(X, y)"
   ]
  },
  {
   "cell_type": "code",
   "execution_count": null,
   "id": "2b1dd557",
   "metadata": {},
   "outputs": [],
   "source": [
    "from sklearn.metrics import accuracy_score, classification_report, confusion_matrix, ConfusionMatrixDisplay\n",
    "import matplotlib.pyplot as plt\n",
    "\n",
    "# Model evaluation on all data\n",
    "y_pred_all = model.predict(X)\n",
    "print(\"Accuracy on all data:\", accuracy_score(y, y_pred_all))\n",
    "print(classification_report(y, y_pred_all))\n",
    "\n",
    "# Confusion Matrix on all data\n",
    "cm = confusion_matrix(y, y_pred_all, labels=['real', 'fake'])\n",
    "disp = ConfusionMatrixDisplay(confusion_matrix=cm, display_labels=['real', 'fake'])\n",
    "disp.plot(cmap='viridis')  # Use a perceptually uniform colormap for better visualization\n",
    "plt.title('Confusion Matrix (All Data)')\n",
    "plt.show()"
   ]
  },
  {
   "cell_type": "code",
   "execution_count": null,
   "id": "0096bea3",
   "metadata": {},
   "outputs": [],
   "source": [
    "# Example prediction for new/unseen news\n",
    "sample = [\"This is a sample news article to test fake news detection.\"]\n",
    "sample_vec = vectorizer.transform(sample)\n",
    "prediction = model.predict(sample_vec)\n",
    "print(\"Prediction for sample:\", prediction[0])"
   ]
  }
 ],
 "metadata": {
  "kernelspec": {
   "display_name": "Python 3",
   "language": "python",
   "name": "python3"
  },
  "language_info": {
   "codemirror_mode": {
    "name": "ipython",
    "version": 3
   },
   "file_extension": ".py",
   "mimetype": "text/x-python",
   "name": "python",
   "nbconvert_exporter": "python",
   "pygments_lexer": "ipython3",
   "version": "3.12.3"
  }
 },
 "nbformat": 4,
 "nbformat_minor": 5
}
